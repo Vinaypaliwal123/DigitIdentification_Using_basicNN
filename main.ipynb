{
 "cells": [
  {
   "cell_type": "code",
   "execution_count": 1,
   "metadata": {},
   "outputs": [],
   "source": [
    "import numpy as np\n",
    "import pandas as pd\n",
    "from matplotlib import pyplot as plt"
   ]
  },
  {
   "cell_type": "code",
   "execution_count": 2,
   "metadata": {},
   "outputs": [
    {
     "data": {
      "text/html": [
       "<div>\n",
       "<style scoped>\n",
       "    .dataframe tbody tr th:only-of-type {\n",
       "        vertical-align: middle;\n",
       "    }\n",
       "\n",
       "    .dataframe tbody tr th {\n",
       "        vertical-align: top;\n",
       "    }\n",
       "\n",
       "    .dataframe thead th {\n",
       "        text-align: right;\n",
       "    }\n",
       "</style>\n",
       "<table border=\"1\" class=\"dataframe\">\n",
       "  <thead>\n",
       "    <tr style=\"text-align: right;\">\n",
       "      <th></th>\n",
       "      <th>label</th>\n",
       "      <th>pixel0</th>\n",
       "      <th>pixel1</th>\n",
       "      <th>pixel2</th>\n",
       "      <th>pixel3</th>\n",
       "      <th>pixel4</th>\n",
       "      <th>pixel5</th>\n",
       "      <th>pixel6</th>\n",
       "      <th>pixel7</th>\n",
       "      <th>pixel8</th>\n",
       "      <th>...</th>\n",
       "      <th>pixel774</th>\n",
       "      <th>pixel775</th>\n",
       "      <th>pixel776</th>\n",
       "      <th>pixel777</th>\n",
       "      <th>pixel778</th>\n",
       "      <th>pixel779</th>\n",
       "      <th>pixel780</th>\n",
       "      <th>pixel781</th>\n",
       "      <th>pixel782</th>\n",
       "      <th>pixel783</th>\n",
       "    </tr>\n",
       "  </thead>\n",
       "  <tbody>\n",
       "    <tr>\n",
       "      <th>0</th>\n",
       "      <td>1</td>\n",
       "      <td>0</td>\n",
       "      <td>0</td>\n",
       "      <td>0</td>\n",
       "      <td>0</td>\n",
       "      <td>0</td>\n",
       "      <td>0</td>\n",
       "      <td>0</td>\n",
       "      <td>0</td>\n",
       "      <td>0</td>\n",
       "      <td>...</td>\n",
       "      <td>0</td>\n",
       "      <td>0</td>\n",
       "      <td>0</td>\n",
       "      <td>0</td>\n",
       "      <td>0</td>\n",
       "      <td>0</td>\n",
       "      <td>0</td>\n",
       "      <td>0</td>\n",
       "      <td>0</td>\n",
       "      <td>0</td>\n",
       "    </tr>\n",
       "    <tr>\n",
       "      <th>1</th>\n",
       "      <td>0</td>\n",
       "      <td>0</td>\n",
       "      <td>0</td>\n",
       "      <td>0</td>\n",
       "      <td>0</td>\n",
       "      <td>0</td>\n",
       "      <td>0</td>\n",
       "      <td>0</td>\n",
       "      <td>0</td>\n",
       "      <td>0</td>\n",
       "      <td>...</td>\n",
       "      <td>0</td>\n",
       "      <td>0</td>\n",
       "      <td>0</td>\n",
       "      <td>0</td>\n",
       "      <td>0</td>\n",
       "      <td>0</td>\n",
       "      <td>0</td>\n",
       "      <td>0</td>\n",
       "      <td>0</td>\n",
       "      <td>0</td>\n",
       "    </tr>\n",
       "    <tr>\n",
       "      <th>2</th>\n",
       "      <td>1</td>\n",
       "      <td>0</td>\n",
       "      <td>0</td>\n",
       "      <td>0</td>\n",
       "      <td>0</td>\n",
       "      <td>0</td>\n",
       "      <td>0</td>\n",
       "      <td>0</td>\n",
       "      <td>0</td>\n",
       "      <td>0</td>\n",
       "      <td>...</td>\n",
       "      <td>0</td>\n",
       "      <td>0</td>\n",
       "      <td>0</td>\n",
       "      <td>0</td>\n",
       "      <td>0</td>\n",
       "      <td>0</td>\n",
       "      <td>0</td>\n",
       "      <td>0</td>\n",
       "      <td>0</td>\n",
       "      <td>0</td>\n",
       "    </tr>\n",
       "    <tr>\n",
       "      <th>3</th>\n",
       "      <td>4</td>\n",
       "      <td>0</td>\n",
       "      <td>0</td>\n",
       "      <td>0</td>\n",
       "      <td>0</td>\n",
       "      <td>0</td>\n",
       "      <td>0</td>\n",
       "      <td>0</td>\n",
       "      <td>0</td>\n",
       "      <td>0</td>\n",
       "      <td>...</td>\n",
       "      <td>0</td>\n",
       "      <td>0</td>\n",
       "      <td>0</td>\n",
       "      <td>0</td>\n",
       "      <td>0</td>\n",
       "      <td>0</td>\n",
       "      <td>0</td>\n",
       "      <td>0</td>\n",
       "      <td>0</td>\n",
       "      <td>0</td>\n",
       "    </tr>\n",
       "    <tr>\n",
       "      <th>4</th>\n",
       "      <td>0</td>\n",
       "      <td>0</td>\n",
       "      <td>0</td>\n",
       "      <td>0</td>\n",
       "      <td>0</td>\n",
       "      <td>0</td>\n",
       "      <td>0</td>\n",
       "      <td>0</td>\n",
       "      <td>0</td>\n",
       "      <td>0</td>\n",
       "      <td>...</td>\n",
       "      <td>0</td>\n",
       "      <td>0</td>\n",
       "      <td>0</td>\n",
       "      <td>0</td>\n",
       "      <td>0</td>\n",
       "      <td>0</td>\n",
       "      <td>0</td>\n",
       "      <td>0</td>\n",
       "      <td>0</td>\n",
       "      <td>0</td>\n",
       "    </tr>\n",
       "  </tbody>\n",
       "</table>\n",
       "<p>5 rows × 785 columns</p>\n",
       "</div>"
      ],
      "text/plain": [
       "   label  pixel0  pixel1  pixel2  pixel3  pixel4  pixel5  pixel6  pixel7  \\\n",
       "0      1       0       0       0       0       0       0       0       0   \n",
       "1      0       0       0       0       0       0       0       0       0   \n",
       "2      1       0       0       0       0       0       0       0       0   \n",
       "3      4       0       0       0       0       0       0       0       0   \n",
       "4      0       0       0       0       0       0       0       0       0   \n",
       "\n",
       "   pixel8  ...  pixel774  pixel775  pixel776  pixel777  pixel778  pixel779  \\\n",
       "0       0  ...         0         0         0         0         0         0   \n",
       "1       0  ...         0         0         0         0         0         0   \n",
       "2       0  ...         0         0         0         0         0         0   \n",
       "3       0  ...         0         0         0         0         0         0   \n",
       "4       0  ...         0         0         0         0         0         0   \n",
       "\n",
       "   pixel780  pixel781  pixel782  pixel783  \n",
       "0         0         0         0         0  \n",
       "1         0         0         0         0  \n",
       "2         0         0         0         0  \n",
       "3         0         0         0         0  \n",
       "4         0         0         0         0  \n",
       "\n",
       "[5 rows x 785 columns]"
      ]
     },
     "execution_count": 2,
     "metadata": {},
     "output_type": "execute_result"
    }
   ],
   "source": [
    "data = pd.read_csv('train.csv')\n",
    "data.head()"
   ]
  },
  {
   "cell_type": "code",
   "execution_count": 3,
   "metadata": {},
   "outputs": [],
   "source": [
    "data = np.array(data)\n",
    "m, n = data.shape\n",
    "# there are 42001 images which contains 784 pixel\n",
    "\n",
    "np.random.shuffle(data)\n",
    "data_dev = data[0:1000].T\n",
    "Y_dev = data_dev[0]\n",
    "X_dev = data_dev[1:n]\n",
    "X_dev = X_dev / 255.\n",
    "\n",
    "data_train = data[1000:m].T\n",
    "Y_train = data_train[0]\n",
    "X_train = data_train[1:n]\n",
    "X_train = X_train / 255."
   ]
  },
  {
   "cell_type": "code",
   "execution_count": 4,
   "metadata": {},
   "outputs": [
    {
     "data": {
      "text/plain": [
       "(784,)"
      ]
     },
     "execution_count": 4,
     "metadata": {},
     "output_type": "execute_result"
    }
   ],
   "source": [
    "X_train[:,0].shape"
   ]
  },
  {
   "cell_type": "code",
   "execution_count": 5,
   "metadata": {},
   "outputs": [
    {
     "data": {
      "text/plain": [
       "array([5, 1, 7, ..., 5, 4, 7], dtype=int64)"
      ]
     },
     "execution_count": 5,
     "metadata": {},
     "output_type": "execute_result"
    }
   ],
   "source": [
    "Y_train"
   ]
  },
  {
   "cell_type": "code",
   "execution_count": 6,
   "metadata": {},
   "outputs": [],
   "source": [
    "#Initializing Parameter\n",
    "def init_params():\n",
    "    w1 = np.random.rand(10,784)-0.5\n",
    "    b1 = np.random.rand(10,1)-0.5\n",
    "    w2 = np.random.rand(10,10)-0.5\n",
    "    b2 = np.random.rand(10,1)-0.5\n",
    "    return w1,b1,w2,b2"
   ]
  },
  {
   "cell_type": "code",
   "execution_count": 7,
   "metadata": {},
   "outputs": [],
   "source": [
    "#step1: Forward Propogation\n",
    "def RelU(z):\n",
    "    return np.maximum(0,z)\n",
    "\n",
    "def softmax(z):\n",
    "    return np.exp(z)/sum(np.exp(z))\n",
    "\n",
    "def forward_prop(w1,b1,w2,b2,X):\n",
    "    Z1 = w1.dot(X) + b1\n",
    "    A1 = RelU(Z1)\n",
    "    Z2 = w2.dot(A1) +b2\n",
    "    A2 = softmax(Z2)\n",
    "    return Z1,A1,Z2,A2"
   ]
  },
  {
   "cell_type": "code",
   "execution_count": 8,
   "metadata": {},
   "outputs": [],
   "source": [
    "#step2: back Propogation\n",
    "def One_hot(Y):\n",
    "    one_hot_y = np.zeros((Y.size,Y.max()+1))\n",
    "    one_hot_y[np.arange(Y.size),Y]=1\n",
    "    one_hot_y = one_hot_y.T\n",
    "    return one_hot_y\n",
    "\n",
    "def deriv_RelU(Z):\n",
    "    return Z>0\n",
    "\n",
    "def back_prop(Z1,A1,Z2,A2,w1,w2,X,Y):\n",
    "    m = Y.size\n",
    "    one_hot_y = One_hot(Y)\n",
    "    dZ2 = A2-one_hot_y\n",
    "    dw2 =1/m*dZ2.dot(A1.T)\n",
    "    db2 = 1/m * np.sum(dZ2, axis=1, keepdims=True)\n",
    "    dZ1 = w2.T.dot(dZ2)*deriv_RelU(Z1)\n",
    "    dw1 =1/m*dZ1.dot(X.T)\n",
    "    db1 =1/m * np.sum(dZ1, axis=1, keepdims=True)\n",
    "    return dw1,db1,dw2,db2\n",
    "    "
   ]
  },
  {
   "cell_type": "code",
   "execution_count": 9,
   "metadata": {},
   "outputs": [],
   "source": [
    "def update_params(w1,b1,w2,b2,dw1,db1,dw2,db2,alpha):\n",
    "    w1 = w1 - alpha*dw1\n",
    "    b1 = b1 - alpha*db1\n",
    "    w2 = w2 - alpha*dw2\n",
    "    b2 = b2 - alpha*db2\n",
    "    return w1,b1,w2,b2"
   ]
  },
  {
   "cell_type": "code",
   "execution_count": 10,
   "metadata": {},
   "outputs": [],
   "source": [
    "#apply Gradient Descent Algo\n",
    "def get_predictions(A2):\n",
    "    return np.argmax(A2,0) #axis = 0 means A2 will be in y axis form\n",
    "def get_accuracy(predictions,Y):\n",
    "    print(predictions,Y)\n",
    "    return np.sum(predictions == Y)/Y.size\n",
    "\n",
    "def gradient_descent(X,Y,alpha,iterations):\n",
    "    accuracy =0\n",
    "    w1,b1,w2,b2 = init_params()\n",
    "    for i in range(iterations):\n",
    "        Z1,A1,Z2,A2 = forward_prop(w1,b1,w2,b2,X)\n",
    "        dw1,db1,dw2,db2 = back_prop(Z1,A1,Z2,A2,w1,w2,X,Y)\n",
    "        w1,b1,w2,b2 = update_params(w1,b1,w2,b2,dw1,db1,dw2,db2,alpha)\n",
    "        \n",
    "        if i%10 == 0:\n",
    "            print('Iteration: ', i)\n",
    "            predictions = get_predictions(A2)\n",
    "            accuracy = get_accuracy(predictions,Y)\n",
    "            print(accuracy)\n",
    "\n",
    "    return w1,b1,w2,b2,accuracy"
   ]
  },
  {
   "cell_type": "code",
   "execution_count": 11,
   "metadata": {},
   "outputs": [
    {
     "name": "stdout",
     "output_type": "stream",
     "text": [
      "Iteration:  0\n",
      "[9 9 8 ... 6 6 9] [5 1 7 ... 5 4 7]\n",
      "0.10824390243902439\n",
      "Iteration:  10\n",
      "[1 1 8 ... 3 3 9] [5 1 7 ... 5 4 7]\n",
      "0.24446341463414634\n",
      "Iteration:  20\n",
      "[1 1 8 ... 3 3 9] [5 1 7 ... 5 4 7]\n",
      "0.3208536585365854\n",
      "Iteration:  30\n",
      "[1 1 7 ... 3 3 9] [5 1 7 ... 5 4 7]\n",
      "0.36209756097560974\n",
      "Iteration:  40\n",
      "[1 1 9 ... 3 3 9] [5 1 7 ... 5 4 7]\n",
      "0.40848780487804875\n",
      "Iteration:  50\n",
      "[1 1 9 ... 3 3 9] [5 1 7 ... 5 4 7]\n",
      "0.4837560975609756\n",
      "Iteration:  60\n",
      "[1 1 9 ... 3 2 9] [5 1 7 ... 5 4 7]\n",
      "0.5419512195121952\n",
      "Iteration:  70\n",
      "[1 1 9 ... 3 2 9] [5 1 7 ... 5 4 7]\n",
      "0.5824634146341463\n",
      "Iteration:  80\n",
      "[1 1 9 ... 3 2 9] [5 1 7 ... 5 4 7]\n",
      "0.6157560975609756\n",
      "Iteration:  90\n",
      "[1 1 9 ... 3 2 9] [5 1 7 ... 5 4 7]\n",
      "0.6415609756097561\n",
      "Iteration:  100\n",
      "[1 1 9 ... 3 2 9] [5 1 7 ... 5 4 7]\n",
      "0.6645609756097561\n",
      "Iteration:  110\n",
      "[1 1 9 ... 3 4 7] [5 1 7 ... 5 4 7]\n",
      "0.6846585365853659\n",
      "Iteration:  120\n",
      "[1 1 9 ... 3 4 7] [5 1 7 ... 5 4 7]\n",
      "0.702\n",
      "Iteration:  130\n",
      "[1 1 9 ... 3 4 7] [5 1 7 ... 5 4 7]\n",
      "0.7164390243902439\n",
      "Iteration:  140\n",
      "[1 1 9 ... 3 4 7] [5 1 7 ... 5 4 7]\n",
      "0.7298292682926829\n",
      "Iteration:  150\n",
      "[1 1 9 ... 3 4 7] [5 1 7 ... 5 4 7]\n",
      "0.7397560975609756\n",
      "Iteration:  160\n",
      "[5 1 9 ... 3 4 7] [5 1 7 ... 5 4 7]\n",
      "0.749780487804878\n",
      "Iteration:  170\n",
      "[5 1 9 ... 3 4 7] [5 1 7 ... 5 4 7]\n",
      "0.7575121951219512\n",
      "Iteration:  180\n",
      "[5 1 9 ... 3 4 7] [5 1 7 ... 5 4 7]\n",
      "0.7649512195121951\n",
      "Iteration:  190\n",
      "[5 1 9 ... 3 4 7] [5 1 7 ... 5 4 7]\n",
      "0.7719268292682927\n",
      "Iteration:  200\n",
      "[5 1 9 ... 3 4 7] [5 1 7 ... 5 4 7]\n",
      "0.7790487804878049\n",
      "Iteration:  210\n",
      "[5 1 9 ... 3 4 7] [5 1 7 ... 5 4 7]\n",
      "0.7849024390243903\n",
      "Iteration:  220\n",
      "[5 1 9 ... 3 4 7] [5 1 7 ... 5 4 7]\n",
      "0.7900243902439025\n",
      "Iteration:  230\n",
      "[5 1 9 ... 3 4 7] [5 1 7 ... 5 4 7]\n",
      "0.7945853658536586\n",
      "Iteration:  240\n",
      "[5 1 9 ... 3 4 7] [5 1 7 ... 5 4 7]\n",
      "0.7989512195121952\n",
      "Iteration:  250\n",
      "[5 1 9 ... 3 4 7] [5 1 7 ... 5 4 7]\n",
      "0.8030975609756098\n",
      "Iteration:  260\n",
      "[5 1 9 ... 3 4 7] [5 1 7 ... 5 4 7]\n",
      "0.8067560975609757\n",
      "Iteration:  270\n",
      "[5 1 9 ... 3 4 7] [5 1 7 ... 5 4 7]\n",
      "0.8099512195121952\n",
      "Iteration:  280\n",
      "[5 1 9 ... 3 4 7] [5 1 7 ... 5 4 7]\n",
      "0.8136585365853658\n",
      "Iteration:  290\n",
      "[5 1 9 ... 3 4 7] [5 1 7 ... 5 4 7]\n",
      "0.8171219512195121\n",
      "Iteration:  300\n",
      "[5 1 9 ... 3 4 7] [5 1 7 ... 5 4 7]\n",
      "0.8204878048780487\n",
      "Iteration:  310\n",
      "[5 1 9 ... 3 4 7] [5 1 7 ... 5 4 7]\n",
      "0.8231951219512195\n",
      "Iteration:  320\n",
      "[5 1 9 ... 3 4 7] [5 1 7 ... 5 4 7]\n",
      "0.8256829268292682\n",
      "Iteration:  330\n",
      "[5 1 9 ... 3 4 7] [5 1 7 ... 5 4 7]\n",
      "0.8276585365853658\n",
      "Iteration:  340\n",
      "[5 1 9 ... 3 4 7] [5 1 7 ... 5 4 7]\n",
      "0.8301219512195122\n",
      "Iteration:  350\n",
      "[5 1 9 ... 3 4 7] [5 1 7 ... 5 4 7]\n",
      "0.8326341463414634\n",
      "Iteration:  360\n",
      "[5 1 9 ... 3 4 7] [5 1 7 ... 5 4 7]\n",
      "0.8343658536585365\n",
      "Iteration:  370\n",
      "[5 1 9 ... 3 4 7] [5 1 7 ... 5 4 7]\n",
      "0.8361219512195122\n",
      "Iteration:  380\n",
      "[5 1 9 ... 3 4 7] [5 1 7 ... 5 4 7]\n",
      "0.8380975609756097\n",
      "Iteration:  390\n",
      "[5 1 9 ... 3 4 7] [5 1 7 ... 5 4 7]\n",
      "0.8399268292682927\n",
      "Iteration:  400\n",
      "[5 1 9 ... 3 4 7] [5 1 7 ... 5 4 7]\n",
      "0.8417560975609756\n",
      "Iteration:  410\n",
      "[5 1 9 ... 3 4 7] [5 1 7 ... 5 4 7]\n",
      "0.8434146341463414\n",
      "Iteration:  420\n",
      "[5 1 9 ... 3 4 7] [5 1 7 ... 5 4 7]\n",
      "0.8448536585365853\n",
      "Iteration:  430\n",
      "[5 1 9 ... 3 4 7] [5 1 7 ... 5 4 7]\n",
      "0.8459512195121951\n",
      "Iteration:  440\n",
      "[5 1 9 ... 3 4 7] [5 1 7 ... 5 4 7]\n",
      "0.8475365853658536\n",
      "Iteration:  450\n",
      "[5 1 9 ... 3 4 7] [5 1 7 ... 5 4 7]\n",
      "0.849\n",
      "Iteration:  460\n",
      "[5 1 9 ... 3 4 7] [5 1 7 ... 5 4 7]\n",
      "0.8501951219512195\n",
      "Iteration:  470\n",
      "[5 1 9 ... 3 4 7] [5 1 7 ... 5 4 7]\n",
      "0.8513658536585366\n",
      "Iteration:  480\n",
      "[5 1 9 ... 3 4 7] [5 1 7 ... 5 4 7]\n",
      "0.8526585365853658\n",
      "Iteration:  490\n",
      "[5 1 9 ... 3 4 7] [5 1 7 ... 5 4 7]\n",
      "0.8534878048780488\n"
     ]
    }
   ],
   "source": [
    "w1,b1,w2,b2,accuracy = gradient_descent(X_train,Y_train,0.10,500)"
   ]
  },
  {
   "cell_type": "code",
   "execution_count": 12,
   "metadata": {},
   "outputs": [],
   "source": [
    "def make_predictions(X,w1,b1,w2,b2):\n",
    "    _,_,_,A2 = forward_prop(w1,b1,w2,b2,X)\n",
    "    predictions = get_predictions(A2)\n",
    "    return predictions"
   ]
  },
  {
   "cell_type": "code",
   "execution_count": 13,
   "metadata": {},
   "outputs": [],
   "source": [
    "def test_prediction(index,w1,b1,w2,b2):\n",
    "    current_image = X_train[:,index,None]\n",
    "    prediction = make_predictions(current_image,w1,b1,w2,b2)\n",
    "    label = Y_train[index]\n",
    "    print(\"prediction: \", prediction)\n",
    "    print(\"label: \",label)\n",
    "    current_image = current_image.reshape((28, 28)) * 255.\n",
    "    plt.gray()\n",
    "    plt.imshow(current_image,interpolation = 'nearest')\n",
    "    plt.show()"
   ]
  },
  {
   "cell_type": "code",
   "execution_count": 14,
   "metadata": {},
   "outputs": [
    {
     "name": "stdout",
     "output_type": "stream",
     "text": [
      "prediction:  [5]\n",
      "label:  5\n"
     ]
    },
    {
     "data": {
      "image/png": "[encoded data removed]",
      "text/plain": [
       "<Figure size 640x480 with 1 Axes>"
      ]
     },
     "metadata": {},
     "output_type": "display_data"
    },
    {
     "name": "stdout",
     "output_type": "stream",
     "text": [
      "prediction:  [1]\n",
      "label:  1\n"
     ]
    },
    {
     "data": {
      "image/png": "[encoded data removed]",
      "text/plain": [
       "<Figure size 640x480 with 1 Axes>"
      ]
     },
     "metadata": {},
     "output_type": "display_data"
    },
    {
     "name": "stdout",
     "output_type": "stream",
     "text": [
      "prediction:  [9]\n",
      "label:  7\n"
     ]
    },
    {
     "data": {
      "image/png": "[encoded data removed]",
      "text/plain": [
       "<Figure size 640x480 with 1 Axes>"
      ]
     },
     "metadata": {},
     "output_type": "display_data"
    },
    {
     "name": "stdout",
     "output_type": "stream",
     "text": [
      "prediction:  [8]\n",
      "label:  8\n"
     ]
    },
    {
     "data": {
      "image/png": "[encoded data removed]",
      "text/plain": [
       "<Figure size 640x480 with 1 Axes>"
      ]
     },
     "metadata": {},
     "output_type": "display_data"
    }
   ],
   "source": [
    "test_prediction(0,w1,b1,w2,b2)\n",
    "test_prediction(1,w1,b1,w2,b2)\n",
    "test_prediction(2,w1,b1,w2,b2)\n",
    "test_prediction(3,w1,b1,w2,b2)"
   ]
  },
  {
   "cell_type": "code",
   "execution_count": 15,
   "metadata": {},
   "outputs": [
    {
     "data": {
      "text/plain": [
       "85.34878048780487"
      ]
     },
     "execution_count": 15,
     "metadata": {},
     "output_type": "execute_result"
    }
   ],
   "source": [
    "accuracy*100"
   ]
  }
 ],
 "metadata": {
  "kernelspec": {
   "display_name": "Python 3",
   "language": "python",
   "name": "python3"
  },
  "language_info": {
   "codemirror_mode": {
    "name": "ipython",
    "version": 3
   },
   "file_extension": ".py",
   "mimetype": "text/x-python",
   "name": "python",
   "nbconvert_exporter": "python",
   "pygments_lexer": "ipython3",
   "version": "3.11.7"
  }
 },
 "nbformat": 4,
 "nbformat_minor": 2
}
